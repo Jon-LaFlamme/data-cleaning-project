{
 "cells": [
  {
   "cell_type": "code",
   "execution_count": 1,
   "source": [
    "import pandas as pd"
   ],
   "outputs": [],
   "metadata": {}
  },
  {
   "cell_type": "code",
   "execution_count": 37,
   "source": [
    "READ_PATH_PPP = \"/Users/jon/Desktop/data-cleaning-project/data/ppp-naics-joined.csv\"\n",
    "READ_PATH_CITY = \"/Users/jon/Desktop/data-cleaning-project/data/trimmed-zipcode.csv\"\n",
    "ppp_df = pd.read_csv(READ_PATH_PPP)\n",
    "city_df = pd.read_csv(READ_PATH_CITY)\n",
    "city_df.info()"
   ],
   "outputs": [
    {
     "output_type": "stream",
     "name": "stdout",
     "text": [
      "<class 'pandas.core.frame.DataFrame'>\n",
      "RangeIndex: 147 entries, 0 to 146\n",
      "Data columns (total 3 columns):\n",
      " #   Column      Non-Null Count  Dtype \n",
      "---  ------      --------------  ----- \n",
      " 0   Unnamed: 0  147 non-null    int64 \n",
      " 1   ZipCode     147 non-null    int64 \n",
      " 2   City        147 non-null    object\n",
      "dtypes: int64(2), object(1)\n",
      "memory usage: 3.6+ KB\n"
     ]
    }
   ],
   "metadata": {}
  },
  {
   "cell_type": "code",
   "execution_count": 38,
   "source": [
    "city_df.drop(city_df.columns[0], axis=1, inplace=True)\n",
    "city_df = city_df.astype({\"ZipCode\":\"int32\", \"City\": \"string\"})\n",
    "city_df.info()"
   ],
   "outputs": [
    {
     "output_type": "stream",
     "name": "stdout",
     "text": [
      "<class 'pandas.core.frame.DataFrame'>\n",
      "RangeIndex: 147 entries, 0 to 146\n",
      "Data columns (total 2 columns):\n",
      " #   Column   Non-Null Count  Dtype \n",
      "---  ------   --------------  ----- \n",
      " 0   ZipCode  147 non-null    int32 \n",
      " 1   City     147 non-null    string\n",
      "dtypes: int32(1), string(1)\n",
      "memory usage: 1.8 KB\n"
     ]
    }
   ],
   "metadata": {}
  },
  {
   "cell_type": "code",
   "execution_count": 39,
   "source": [
    "city_df.head()"
   ],
   "outputs": [
    {
     "output_type": "execute_result",
     "data": {
      "text/plain": [
       "   ZipCode          City\n",
       "0    96701          AIEA\n",
       "1    96703       ANAHOLA\n",
       "2    96704  CAPTAIN COOK\n",
       "3    96704    OCEAN VIEW\n",
       "4    96705        ELEELE"
      ],
      "text/html": [
       "<div>\n",
       "<style scoped>\n",
       "    .dataframe tbody tr th:only-of-type {\n",
       "        vertical-align: middle;\n",
       "    }\n",
       "\n",
       "    .dataframe tbody tr th {\n",
       "        vertical-align: top;\n",
       "    }\n",
       "\n",
       "    .dataframe thead th {\n",
       "        text-align: right;\n",
       "    }\n",
       "</style>\n",
       "<table border=\"1\" class=\"dataframe\">\n",
       "  <thead>\n",
       "    <tr style=\"text-align: right;\">\n",
       "      <th></th>\n",
       "      <th>ZipCode</th>\n",
       "      <th>City</th>\n",
       "    </tr>\n",
       "  </thead>\n",
       "  <tbody>\n",
       "    <tr>\n",
       "      <th>0</th>\n",
       "      <td>96701</td>\n",
       "      <td>AIEA</td>\n",
       "    </tr>\n",
       "    <tr>\n",
       "      <th>1</th>\n",
       "      <td>96703</td>\n",
       "      <td>ANAHOLA</td>\n",
       "    </tr>\n",
       "    <tr>\n",
       "      <th>2</th>\n",
       "      <td>96704</td>\n",
       "      <td>CAPTAIN COOK</td>\n",
       "    </tr>\n",
       "    <tr>\n",
       "      <th>3</th>\n",
       "      <td>96704</td>\n",
       "      <td>OCEAN VIEW</td>\n",
       "    </tr>\n",
       "    <tr>\n",
       "      <th>4</th>\n",
       "      <td>96705</td>\n",
       "      <td>ELEELE</td>\n",
       "    </tr>\n",
       "  </tbody>\n",
       "</table>\n",
       "</div>"
      ]
     },
     "metadata": {},
     "execution_count": 39
    }
   ],
   "metadata": {}
  },
  {
   "cell_type": "code",
   "execution_count": 43,
   "source": [
    "ppp_df = ppp_df.astype({\"Zip\":\"int32\"})\n",
    "ppp_df.info()"
   ],
   "outputs": [
    {
     "output_type": "stream",
     "name": "stdout",
     "text": [
      "<class 'pandas.core.frame.DataFrame'>\n",
      "RangeIndex: 21904 entries, 0 to 21903\n",
      "Data columns (total 17 columns):\n",
      " #   Column            Non-Null Count  Dtype  \n",
      "---  ------            --------------  -----  \n",
      " 0   Unnamed: 0        21904 non-null  int64  \n",
      " 1   LoanAmount        21904 non-null  float64\n",
      " 2   City              21904 non-null  object \n",
      " 3   State             21904 non-null  object \n",
      " 4   Zip               21904 non-null  int32  \n",
      " 5   NAICSCode         21799 non-null  float64\n",
      " 6   BusinessType      21903 non-null  object \n",
      " 7   RaceEthnicity     21904 non-null  object \n",
      " 8   Gender            21904 non-null  object \n",
      " 9   Veteran           21904 non-null  object \n",
      " 10  NonProfit         678 non-null    object \n",
      " 11  JobsReported      19457 non-null  float64\n",
      " 12  DateApproved      21904 non-null  object \n",
      " 13  Lender            21904 non-null  object \n",
      " 14  CD                21904 non-null  object \n",
      " 15  2017 NAICS Code   21595 non-null  float64\n",
      " 16  2017 NAICS Title  21595 non-null  object \n",
      "dtypes: float64(4), int32(1), int64(1), object(11)\n",
      "memory usage: 2.8+ MB\n"
     ]
    }
   ],
   "metadata": {}
  },
  {
   "cell_type": "code",
   "execution_count": 44,
   "source": [
    "joined_ppp = ppp_df.merge(\n",
    "    right=city_df,\n",
    "    how='left',\n",
    "    left_on='Zip',\n",
    "    right_on='ZipCode'\n",
    ")"
   ],
   "outputs": [],
   "metadata": {}
  },
  {
   "cell_type": "code",
   "execution_count": 45,
   "source": [
    "joined_ppp.info()"
   ],
   "outputs": [
    {
     "output_type": "stream",
     "name": "stdout",
     "text": [
      "<class 'pandas.core.frame.DataFrame'>\n",
      "Int64Index: 22653 entries, 0 to 22652\n",
      "Data columns (total 19 columns):\n",
      " #   Column            Non-Null Count  Dtype  \n",
      "---  ------            --------------  -----  \n",
      " 0   Unnamed: 0        22653 non-null  int64  \n",
      " 1   LoanAmount        22653 non-null  float64\n",
      " 2   City_x            22653 non-null  object \n",
      " 3   State             22653 non-null  object \n",
      " 4   Zip               22653 non-null  int32  \n",
      " 5   NAICSCode         22544 non-null  float64\n",
      " 6   BusinessType      22651 non-null  object \n",
      " 7   RaceEthnicity     22653 non-null  object \n",
      " 8   Gender            22653 non-null  object \n",
      " 9   Veteran           22653 non-null  object \n",
      " 10  NonProfit         689 non-null    object \n",
      " 11  JobsReported      20093 non-null  float64\n",
      " 12  DateApproved      22653 non-null  object \n",
      " 13  Lender            22653 non-null  object \n",
      " 14  CD                22653 non-null  object \n",
      " 15  2017 NAICS Code   22337 non-null  float64\n",
      " 16  2017 NAICS Title  22337 non-null  object \n",
      " 17  ZipCode           22652 non-null  float64\n",
      " 18  City_y            22652 non-null  string \n",
      "dtypes: float64(5), int32(1), int64(1), object(11), string(1)\n",
      "memory usage: 3.4+ MB\n"
     ]
    }
   ],
   "metadata": {}
  },
  {
   "cell_type": "code",
   "execution_count": 46,
   "source": [
    "joined_ppp.head()"
   ],
   "outputs": [
    {
     "output_type": "execute_result",
     "data": {
      "text/plain": [
       "   Unnamed: 0  LoanAmount    City_x State    Zip  NAICSCode  \\\n",
       "0           0    149957.5  HONOLULU    HI  96813   238220.0   \n",
       "1           1    149900.0  HONOLULU    HI  96814   541990.0   \n",
       "2           2    149800.0  HONOLULU    HI  96816   722511.0   \n",
       "3           3    149800.0  HONOLULU    HI  96815   722511.0   \n",
       "4           4    149700.0      AIEA    HI  96701   621111.0   \n",
       "\n",
       "                    BusinessType RaceEthnicity      Gender      Veteran  \\\n",
       "0                    Corporation    Unanswered  Unanswered   Unanswered   \n",
       "1        Non-Profit Organization    Unanswered  Unanswered   Unanswered   \n",
       "2                    Corporation         Asian  Male Owned  Non-Veteran   \n",
       "3                    Corporation    Unanswered  Unanswered   Unanswered   \n",
       "4  Limited Liability Partnership    Unanswered  Unanswered   Unanswered   \n",
       "\n",
       "  NonProfit  JobsReported DateApproved                      Lender     CD  \\\n",
       "0       NaN          14.0   04/16/2020         First Hawaiian Bank  HI-01   \n",
       "1         Y          17.0   04/08/2020         First Hawaiian Bank  HI-01   \n",
       "2       NaN          42.0   04/12/2020        Central Pacific Bank  HI-01   \n",
       "3       NaN          27.0   05/27/2020  American Savings Bank, FSB  HI-01   \n",
       "4       NaN          10.0   04/06/2020  American Savings Bank, FSB  HI-01   \n",
       "\n",
       "   2017 NAICS Code                                   2017 NAICS Title  \\\n",
       "0         238220.0  Plumbing, Heating, and Air-Conditioning Contra...   \n",
       "1         541990.0  All Other Professional, Scientific, and Techni...   \n",
       "2         722511.0                          Full-Service Restaurants    \n",
       "3         722511.0                          Full-Service Restaurants    \n",
       "4         621111.0  Offices of Physicians (except Mental Health Sp...   \n",
       "\n",
       "   ZipCode    City_y  \n",
       "0  96813.0  HONOLULU  \n",
       "1  96814.0  HONOLULU  \n",
       "2  96816.0  HONOLULU  \n",
       "3  96815.0  HONOLULU  \n",
       "4  96701.0      AIEA  "
      ],
      "text/html": [
       "<div>\n",
       "<style scoped>\n",
       "    .dataframe tbody tr th:only-of-type {\n",
       "        vertical-align: middle;\n",
       "    }\n",
       "\n",
       "    .dataframe tbody tr th {\n",
       "        vertical-align: top;\n",
       "    }\n",
       "\n",
       "    .dataframe thead th {\n",
       "        text-align: right;\n",
       "    }\n",
       "</style>\n",
       "<table border=\"1\" class=\"dataframe\">\n",
       "  <thead>\n",
       "    <tr style=\"text-align: right;\">\n",
       "      <th></th>\n",
       "      <th>Unnamed: 0</th>\n",
       "      <th>LoanAmount</th>\n",
       "      <th>City_x</th>\n",
       "      <th>State</th>\n",
       "      <th>Zip</th>\n",
       "      <th>NAICSCode</th>\n",
       "      <th>BusinessType</th>\n",
       "      <th>RaceEthnicity</th>\n",
       "      <th>Gender</th>\n",
       "      <th>Veteran</th>\n",
       "      <th>NonProfit</th>\n",
       "      <th>JobsReported</th>\n",
       "      <th>DateApproved</th>\n",
       "      <th>Lender</th>\n",
       "      <th>CD</th>\n",
       "      <th>2017 NAICS Code</th>\n",
       "      <th>2017 NAICS Title</th>\n",
       "      <th>ZipCode</th>\n",
       "      <th>City_y</th>\n",
       "    </tr>\n",
       "  </thead>\n",
       "  <tbody>\n",
       "    <tr>\n",
       "      <th>0</th>\n",
       "      <td>0</td>\n",
       "      <td>149957.5</td>\n",
       "      <td>HONOLULU</td>\n",
       "      <td>HI</td>\n",
       "      <td>96813</td>\n",
       "      <td>238220.0</td>\n",
       "      <td>Corporation</td>\n",
       "      <td>Unanswered</td>\n",
       "      <td>Unanswered</td>\n",
       "      <td>Unanswered</td>\n",
       "      <td>NaN</td>\n",
       "      <td>14.0</td>\n",
       "      <td>04/16/2020</td>\n",
       "      <td>First Hawaiian Bank</td>\n",
       "      <td>HI-01</td>\n",
       "      <td>238220.0</td>\n",
       "      <td>Plumbing, Heating, and Air-Conditioning Contra...</td>\n",
       "      <td>96813.0</td>\n",
       "      <td>HONOLULU</td>\n",
       "    </tr>\n",
       "    <tr>\n",
       "      <th>1</th>\n",
       "      <td>1</td>\n",
       "      <td>149900.0</td>\n",
       "      <td>HONOLULU</td>\n",
       "      <td>HI</td>\n",
       "      <td>96814</td>\n",
       "      <td>541990.0</td>\n",
       "      <td>Non-Profit Organization</td>\n",
       "      <td>Unanswered</td>\n",
       "      <td>Unanswered</td>\n",
       "      <td>Unanswered</td>\n",
       "      <td>Y</td>\n",
       "      <td>17.0</td>\n",
       "      <td>04/08/2020</td>\n",
       "      <td>First Hawaiian Bank</td>\n",
       "      <td>HI-01</td>\n",
       "      <td>541990.0</td>\n",
       "      <td>All Other Professional, Scientific, and Techni...</td>\n",
       "      <td>96814.0</td>\n",
       "      <td>HONOLULU</td>\n",
       "    </tr>\n",
       "    <tr>\n",
       "      <th>2</th>\n",
       "      <td>2</td>\n",
       "      <td>149800.0</td>\n",
       "      <td>HONOLULU</td>\n",
       "      <td>HI</td>\n",
       "      <td>96816</td>\n",
       "      <td>722511.0</td>\n",
       "      <td>Corporation</td>\n",
       "      <td>Asian</td>\n",
       "      <td>Male Owned</td>\n",
       "      <td>Non-Veteran</td>\n",
       "      <td>NaN</td>\n",
       "      <td>42.0</td>\n",
       "      <td>04/12/2020</td>\n",
       "      <td>Central Pacific Bank</td>\n",
       "      <td>HI-01</td>\n",
       "      <td>722511.0</td>\n",
       "      <td>Full-Service Restaurants</td>\n",
       "      <td>96816.0</td>\n",
       "      <td>HONOLULU</td>\n",
       "    </tr>\n",
       "    <tr>\n",
       "      <th>3</th>\n",
       "      <td>3</td>\n",
       "      <td>149800.0</td>\n",
       "      <td>HONOLULU</td>\n",
       "      <td>HI</td>\n",
       "      <td>96815</td>\n",
       "      <td>722511.0</td>\n",
       "      <td>Corporation</td>\n",
       "      <td>Unanswered</td>\n",
       "      <td>Unanswered</td>\n",
       "      <td>Unanswered</td>\n",
       "      <td>NaN</td>\n",
       "      <td>27.0</td>\n",
       "      <td>05/27/2020</td>\n",
       "      <td>American Savings Bank, FSB</td>\n",
       "      <td>HI-01</td>\n",
       "      <td>722511.0</td>\n",
       "      <td>Full-Service Restaurants</td>\n",
       "      <td>96815.0</td>\n",
       "      <td>HONOLULU</td>\n",
       "    </tr>\n",
       "    <tr>\n",
       "      <th>4</th>\n",
       "      <td>4</td>\n",
       "      <td>149700.0</td>\n",
       "      <td>AIEA</td>\n",
       "      <td>HI</td>\n",
       "      <td>96701</td>\n",
       "      <td>621111.0</td>\n",
       "      <td>Limited Liability Partnership</td>\n",
       "      <td>Unanswered</td>\n",
       "      <td>Unanswered</td>\n",
       "      <td>Unanswered</td>\n",
       "      <td>NaN</td>\n",
       "      <td>10.0</td>\n",
       "      <td>04/06/2020</td>\n",
       "      <td>American Savings Bank, FSB</td>\n",
       "      <td>HI-01</td>\n",
       "      <td>621111.0</td>\n",
       "      <td>Offices of Physicians (except Mental Health Sp...</td>\n",
       "      <td>96701.0</td>\n",
       "      <td>AIEA</td>\n",
       "    </tr>\n",
       "  </tbody>\n",
       "</table>\n",
       "</div>"
      ]
     },
     "metadata": {},
     "execution_count": 46
    }
   ],
   "metadata": {}
  },
  {
   "cell_type": "code",
   "execution_count": 3,
   "source": [],
   "outputs": [
    {
     "output_type": "stream",
     "name": "stdout",
     "text": [
      "<class 'pandas.core.frame.DataFrame'>\n",
      "RangeIndex: 21904 entries, 0 to 21903\n",
      "Data columns (total 17 columns):\n",
      " #   Column            Non-Null Count  Dtype  \n",
      "---  ------            --------------  -----  \n",
      " 0   Unnamed: 0        21904 non-null  int64  \n",
      " 1   LoanAmount        21904 non-null  float64\n",
      " 2   City              21904 non-null  object \n",
      " 3   State             21904 non-null  object \n",
      " 4   Zip               21904 non-null  int64  \n",
      " 5   NAICSCode         21799 non-null  float64\n",
      " 6   BusinessType      21903 non-null  object \n",
      " 7   RaceEthnicity     21904 non-null  object \n",
      " 8   Gender            21904 non-null  object \n",
      " 9   Veteran           21904 non-null  object \n",
      " 10  NonProfit         678 non-null    object \n",
      " 11  JobsReported      19457 non-null  float64\n",
      " 12  DateApproved      21904 non-null  object \n",
      " 13  Lender            21904 non-null  object \n",
      " 14  CD                21904 non-null  object \n",
      " 15  2017 NAICS Code   21595 non-null  float64\n",
      " 16  2017 NAICS Title  21595 non-null  object \n",
      "dtypes: float64(4), int64(2), object(11)\n",
      "memory usage: 2.8+ MB\n"
     ]
    }
   ],
   "metadata": {}
  },
  {
   "cell_type": "code",
   "execution_count": 48,
   "source": [
    "ppp_df.info()"
   ],
   "outputs": [
    {
     "output_type": "stream",
     "name": "stdout",
     "text": [
      "<class 'pandas.core.frame.DataFrame'>\n",
      "RangeIndex: 21904 entries, 0 to 21903\n",
      "Data columns (total 17 columns):\n",
      " #   Column            Non-Null Count  Dtype  \n",
      "---  ------            --------------  -----  \n",
      " 0   Unnamed: 0        21904 non-null  int64  \n",
      " 1   LoanAmount        21904 non-null  float64\n",
      " 2   City              21904 non-null  object \n",
      " 3   State             21904 non-null  object \n",
      " 4   Zip               21904 non-null  int32  \n",
      " 5   NAICSCode         21799 non-null  float64\n",
      " 6   BusinessType      21903 non-null  object \n",
      " 7   RaceEthnicity     21904 non-null  object \n",
      " 8   Gender            21904 non-null  object \n",
      " 9   Veteran           21904 non-null  object \n",
      " 10  NonProfit         678 non-null    object \n",
      " 11  JobsReported      19457 non-null  float64\n",
      " 12  DateApproved      21904 non-null  object \n",
      " 13  Lender            21904 non-null  object \n",
      " 14  CD                21904 non-null  object \n",
      " 15  2017 NAICS Code   21595 non-null  float64\n",
      " 16  2017 NAICS Title  21595 non-null  object \n",
      "dtypes: float64(4), int32(1), int64(1), object(11)\n",
      "memory usage: 2.8+ MB\n"
     ]
    }
   ],
   "metadata": {}
  },
  {
   "cell_type": "code",
   "execution_count": null,
   "source": [
    "WRITE_PATH = \"\"\n",
    "joined_ppp.to_csv()"
   ],
   "outputs": [],
   "metadata": {}
  }
 ],
 "metadata": {
  "orig_nbformat": 4,
  "language_info": {
   "name": "python",
   "version": "3.8.5",
   "mimetype": "text/x-python",
   "codemirror_mode": {
    "name": "ipython",
    "version": 3
   },
   "pygments_lexer": "ipython3",
   "nbconvert_exporter": "python",
   "file_extension": ".py"
  },
  "kernelspec": {
   "name": "python3",
   "display_name": "Python 3.8.5 64-bit ('base': conda)"
  },
  "interpreter": {
   "hash": "63378086dee97ba3858e6e02eb58439cad49885dfaf31b428d6ac723d60c3a46"
  }
 },
 "nbformat": 4,
 "nbformat_minor": 2
}