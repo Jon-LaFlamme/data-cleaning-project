{
 "cells": [
  {
   "cell_type": "code",
   "execution_count": 3,
   "metadata": {},
   "outputs": [],
   "source": [
    "import pandas as pd"
   ]
  },
  {
   "cell_type": "code",
   "execution_count": 4,
   "metadata": {},
   "outputs": [
    {
     "name": "stdout",
     "output_type": "stream",
     "text": [
      "<class 'pandas.core.frame.DataFrame'>\n",
      "RangeIndex: 51040 entries, 0 to 51039\n",
      "Data columns (total 5 columns):\n",
      " #   Column         Non-Null Count  Dtype \n",
      "---  ------         --------------  ----- \n",
      " 0   ZipCode        51040 non-null  int64 \n",
      " 1   Type           51040 non-null  object\n",
      " 2   City           51040 non-null  object\n",
      " 3   State          51040 non-null  object\n",
      " 4   IsPrimaryCity  51040 non-null  int64 \n",
      "dtypes: int64(2), object(3)\n",
      "memory usage: 1.9+ MB\n"
     ]
    }
   ],
   "source": [
    "PATH = \"/Users/jon/Desktop/data-cleaning-project/data/usps_zipcodes_20130301.csv\"\n",
    "df = pd.read_csv(PATH)\n",
    "df.info()"
   ]
  },
  {
   "cell_type": "code",
   "execution_count": 5,
   "metadata": {},
   "outputs": [
    {
     "name": "stdout",
     "output_type": "stream",
     "text": [
      "<class 'pandas.core.frame.DataFrame'>\n",
      "RangeIndex: 51040 entries, 0 to 51039\n",
      "Data columns (total 5 columns):\n",
      " #   Column         Non-Null Count  Dtype  \n",
      "---  ------         --------------  -----  \n",
      " 0   ZipCode        147 non-null    float64\n",
      " 1   Type           147 non-null    object \n",
      " 2   City           147 non-null    object \n",
      " 3   State          147 non-null    object \n",
      " 4   IsPrimaryCity  147 non-null    float64\n",
      "dtypes: float64(2), object(3)\n",
      "memory usage: 1.9+ MB\n"
     ]
    }
   ],
   "source": [
    "dftrimmed = df.where(df['State']=='HI')\n",
    "dftrimmed.info()"
   ]
  },
  {
   "cell_type": "code",
   "execution_count": 6,
   "metadata": {},
   "outputs": [
    {
     "name": "stdout",
     "output_type": "stream",
     "text": [
      "<class 'pandas.core.frame.DataFrame'>\n",
      "Int64Index: 147 entries, 49119 to 49266\n",
      "Data columns (total 5 columns):\n",
      " #   Column         Non-Null Count  Dtype  \n",
      "---  ------         --------------  -----  \n",
      " 0   ZipCode        147 non-null    float64\n",
      " 1   Type           147 non-null    object \n",
      " 2   City           147 non-null    object \n",
      " 3   State          147 non-null    object \n",
      " 4   IsPrimaryCity  147 non-null    float64\n",
      "dtypes: float64(2), object(3)\n",
      "memory usage: 6.9+ KB\n"
     ]
    }
   ],
   "source": [
    "dftrimmed = dftrimmed.dropna()\n",
    "dftrimmed.info()"
   ]
  },
  {
   "cell_type": "code",
   "execution_count": 7,
   "metadata": {},
   "outputs": [
    {
     "name": "stdout",
     "output_type": "stream",
     "text": [
      "<class 'pandas.core.frame.DataFrame'>\n",
      "Int64Index: 147 entries, 49119 to 49266\n",
      "Data columns (total 2 columns):\n",
      " #   Column   Non-Null Count  Dtype  \n",
      "---  ------   --------------  -----  \n",
      " 0   ZipCode  147 non-null    float64\n",
      " 1   City     147 non-null    object \n",
      "dtypes: float64(1), object(1)\n",
      "memory usage: 3.4+ KB\n"
     ]
    }
   ],
   "source": [
    "dftrimmed = dftrimmed.drop(labels=[\"IsPrimaryCity\", \"Type\",\"State\"], axis=1)\n",
    "dftrimmed.info()\n"
   ]
  },
  {
   "cell_type": "code",
   "execution_count": 8,
   "metadata": {},
   "outputs": [
    {
     "name": "stdout",
     "output_type": "stream",
     "text": [
      "<class 'pandas.core.frame.DataFrame'>\n",
      "Int64Index: 147 entries, 49119 to 49266\n",
      "Data columns (total 2 columns):\n",
      " #   Column   Non-Null Count  Dtype \n",
      "---  ------   --------------  ----- \n",
      " 0   ZipCode  147 non-null    Int32 \n",
      " 1   City     147 non-null    string\n",
      "dtypes: Int32(1), string(1)\n",
      "memory usage: 3.0 KB\n"
     ]
    }
   ],
   "source": [
    "dftrimmed = dftrimmed.astype({\"ZipCode\":\"Int32\", \"City\": \"string\"})\n",
    "dftrimmed.info()"
   ]
  },
  {
   "cell_type": "code",
   "execution_count": null,
   "metadata": {},
   "outputs": [],
   "source": [
    "WRITE_PATH = \"/Users/jon/Desktop/data-cleaning-project/data/trimmed-zipcode.csv\"\n",
    "dftrimmed.to_csv(WRITE_PATH)"
   ]
  },
  {
   "cell_type": "code",
   "execution_count": null,
   "metadata": {},
   "outputs": [],
   "source": []
  }
 ],
 "metadata": {
  "interpreter": {
   "hash": "63378086dee97ba3858e6e02eb58439cad49885dfaf31b428d6ac723d60c3a46"
  },
  "kernelspec": {
   "display_name": "Python 3",
   "language": "python",
   "name": "python3"
  },
  "language_info": {
   "codemirror_mode": {
    "name": "ipython",
    "version": 3
   },
   "file_extension": ".py",
   "mimetype": "text/x-python",
   "name": "python",
   "nbconvert_exporter": "python",
   "pygments_lexer": "ipython3",
   "version": "3.8.5"
  }
 },
 "nbformat": 4,
 "nbformat_minor": 2
}
